{
 "cells": [
  {
   "cell_type": "code",
   "execution_count": 1,
   "id": "7a70fc8b",
   "metadata": {},
   "outputs": [
    {
     "name": "stdout",
     "output_type": "stream",
     "text": [
      "Requirement already satisfied: opencv-python in c:\\users\\imran\\anaconda3\\lib\\site-packages (4.7.0.72)\n",
      "Requirement already satisfied: numpy>=1.17.0 in c:\\users\\imran\\anaconda3\\lib\\site-packages (from opencv-python) (1.20.3)\n"
     ]
    }
   ],
   "source": [
    "# Task 1: Import libraries\n",
    "!pip install opencv-python\n",
    "import cv2"
   ]
  },
  {
   "cell_type": "code",
   "execution_count": 2,
   "id": "cafe5ec5",
   "metadata": {},
   "outputs": [],
   "source": [
    "cap = cv2.VideoCapture(0)"
   ]
  },
  {
   "cell_type": "code",
   "execution_count": 3,
   "id": "eb9dc202",
   "metadata": {},
   "outputs": [],
   "source": [
    "# Task 2: Load the pre-trained human detection model\n",
    "hog = cv2.HOGDescriptor()\n",
    "hog.setSVMDetector(cv2.HOGDescriptor_getDefaultPeopleDetector())"
   ]
  },
  {
   "cell_type": "code",
   "execution_count": null,
   "id": "ee616955",
   "metadata": {},
   "outputs": [],
   "source": [
    "while True:\n",
    "    # Task 3: Read frames from the laptop camera\n",
    "    ret, frame = cap.read()\n",
    "\n",
    "    # Convert frame to grayscale\n",
    "    gray = cv2.cvtColor(frame, cv2.COLOR_BGR2GRAY)\n",
    "\n",
    "    # Apply human detection to grayscale frame and Retrieve the bounding boxes and confidence scores for the detected humans.\n",
    "    boxes, scores = hog.detectMultiScale(gray)\n",
    "\n",
    "    # Count the number of detected humans\n",
    "    num_humans = len(boxes)\n",
    "\n",
    "    # Task 4: Draw bounding boxes around humans and display frame\n",
    "    for (x, y, w, h) in boxes:\n",
    "        cv2.rectangle(frame, (x, y), (x+w, y+h), (0, 255, 0), 2)\n",
    "\n",
    "    cv2.putText(frame, f\"Number of Humans: {num_humans}\", (10, 30),\n",
    "                cv2.FONT_HERSHEY_SIMPLEX, 0.8, (0, 0, 255), 2)\n",
    "    \n",
    "    # Task 5: Count the number of detected humans\n",
    "    cv2.imshow(\"Human Detection\", frame)\n",
    "\n",
    "    # Task 6:Break condition to exit the loop\n",
    "    if cv2.waitKey(1) & 0xFF == ord('q'):\n",
    "        break\n",
    "\n",
    "# Release the camera and close all windows\n",
    "cap.release()\n",
    "cv2.destroyAllWindows()"
   ]
  }
 ],
 "metadata": {
  "kernelspec": {
   "display_name": "Python 3 (ipykernel)",
   "language": "python",
   "name": "python3"
  },
  "language_info": {
   "codemirror_mode": {
    "name": "ipython",
    "version": 3
   },
   "file_extension": ".py",
   "mimetype": "text/x-python",
   "name": "python",
   "nbconvert_exporter": "python",
   "pygments_lexer": "ipython3",
   "version": "3.9.7"
  }
 },
 "nbformat": 4,
 "nbformat_minor": 5
}
